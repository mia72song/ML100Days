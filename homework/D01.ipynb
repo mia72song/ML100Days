{
 "cells": [
  {
   "cell_type": "markdown",
   "metadata": {
    "id": "5aWZnhxBD2p2"
   },
   "source": [
    "作業目標:<br>\n",
    "在array中，可以靈活應用索引幫助資料擷取<br>\n",
    "作業重點:<br>\n",
    "陣列的索引、切片、以及屬性，皆需要注意使用方式<br>\n",
    "陣列之中索引式由0開始請同學注意"
   ]
  },
  {
   "cell_type": "markdown",
   "metadata": {
    "id": "Ec7jpEEnD4rj"
   },
   "source": [
    "題目:<br>\n",
    "1.生成一個等差數列，首數為0，尾數為20，公差為1的數列。<br>\n",
    "2.呈上題，將以上數列取出偶數。<br>\n",
    "3.呈1題，將數列取出3的倍數。<br>"
   ]
  },
  {
   "cell_type": "code",
   "execution_count": 1,
   "metadata": {
    "id": "NfVTcwauD3rg"
   },
   "outputs": [],
   "source": [
    "import numpy as np"
   ]
  },
  {
   "cell_type": "code",
   "execution_count": 31,
   "metadata": {
    "id": "QrOaxfmeEpvo"
   },
   "outputs": [
    {
     "data": {
      "text/plain": [
       "numpy.ndarray"
      ]
     },
     "execution_count": 31,
     "metadata": {},
     "output_type": "execute_result"
    }
   ],
   "source": [
    "#1.生成一個等差數列，首數為0，尾數為20，公差為1的數列。\n",
    "#np.arange([start, ]stop, [step=1, ]dtype=None) 不包含結束值stop\n",
    "#如果沒有設定dtype的話，會依照帶入參數的資料類型生成array\n",
    "data1_1 = np.arange(21)  \n",
    "data1_1\n",
    "type(data1_1)"
   ]
  },
  {
   "cell_type": "code",
   "execution_count": 30,
   "metadata": {},
   "outputs": [
    {
     "data": {
      "text/plain": [
       "numpy.ndarray"
      ]
     },
     "execution_count": 30,
     "metadata": {},
     "output_type": "execute_result"
    }
   ],
   "source": [
    "#np.inspace(start, stop, num=50, endpoint=True, retstep=False, dtype=None, axis=0) 包含結束值stop\n",
    "data1_2 = np.linspace(0, 20, num=20, dtype=int)\n",
    "data1_2\n",
    "type(data1_2)"
   ]
  },
  {
   "cell_type": "code",
   "execution_count": 29,
   "metadata": {
    "id": "5FFeFSvoEtRP"
   },
   "outputs": [
    {
     "data": {
      "text/plain": [
       "numpy.ndarray"
      ]
     },
     "execution_count": 29,
     "metadata": {},
     "output_type": "execute_result"
    }
   ],
   "source": [
    "#2.呈上題，將以上數列取出偶數。\n",
    "#filter(func, iterable)\n",
    "data2 = np.array(list(filter(lambda x : x%2==0, range(21))))\n",
    "data2\n",
    "type(data2)"
   ]
  },
  {
   "cell_type": "code",
   "execution_count": 26,
   "metadata": {
    "id": "7-HcNGFsFD-_"
   },
   "outputs": [
    {
     "data": {
      "text/plain": [
       "array([ 0,  3,  6,  9, 12, 15, 18])"
      ]
     },
     "execution_count": 26,
     "metadata": {},
     "output_type": "execute_result"
    }
   ],
   "source": [
    "#3.呈1題，將數列取出3的倍數。 0 是任意正整數的倍數\n",
    "data3 = np.array(list(filter(lambda x : x%3==0, range(21))))\n",
    "data3"
   ]
  },
  {
   "cell_type": "code",
   "execution_count": null,
   "metadata": {
    "id": "6_6Emob-FHn3"
   },
   "outputs": [],
   "source": []
  }
 ],
 "metadata": {
  "colab": {
   "collapsed_sections": [],
   "name": "作業題目.ipynb",
   "provenance": []
  },
  "kernelspec": {
   "display_name": "Python 3",
   "language": "python",
   "name": "python3"
  },
  "language_info": {
   "codemirror_mode": {
    "name": "ipython",
    "version": 3
   },
   "file_extension": ".py",
   "mimetype": "text/x-python",
   "name": "python",
   "nbconvert_exporter": "python",
   "pygments_lexer": "ipython3",
   "version": "3.8.5"
  }
 },
 "nbformat": 4,
 "nbformat_minor": 1
}
