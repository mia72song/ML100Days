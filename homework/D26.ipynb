{
 "cells": [
  {
   "cell_type": "markdown",
   "metadata": {},
   "source": [
    "## 作業:\n",
    "今天學到不同統計量之間特性，  \n",
    "試著分析男生女生身高資料，  \n",
    "試著回答下面的問題:  \n",
    "Q1:試著用今天所教的內容，如何描述這兩組資料的樣態?    \n",
    "Q2: 請問男生和女生在平均身高上誰比較高?   \n",
    "Q3:請問第二題的答案和日常生活中觀察的一致嗎? 如果不一致，你覺得原因可能為何?    \n",
    "上述問題透過  python 語法進行運算，\n",
    "並將上述答案填寫在 (google 表單)[https://forms.gle/EDdU2Zfq8zLvDea18]\n",
    "![](作業資料圖檔.PNG)"
   ]
  },
  {
   "cell_type": "code",
   "execution_count": 1,
   "metadata": {
    "colab": {
     "base_uri": "https://localhost:8080/",
     "height": 34
    },
    "colab_type": "code",
    "executionInfo": {
     "elapsed": 1558,
     "status": "ok",
     "timestamp": 1578021044012,
     "user": {
      "displayName": "Mora chen",
      "photoUrl": "https://lh3.googleusercontent.com/a-/AAuE7mB40f7sDArbZ5_DYq02nNcnLD0Ryaf7AhsASSQeLQ=s64",
      "userId": "03171203089166907199"
     },
     "user_tz": -480
    },
    "id": "yz28_IgkYdBW",
    "outputId": "a12f486c-18b3-4fb5-d06c-f162aebd9444"
   },
   "outputs": [],
   "source": [
    "# library\n",
    "import matplotlib.pyplot as plt\n",
    "import numpy as np\n",
    "import pandas as pd\n",
    "from scipy import stats\n",
    "import math\n",
    "import statistics\n",
    "import seaborn as sns"
   ]
  },
  {
   "cell_type": "code",
   "execution_count": 2,
   "metadata": {},
   "outputs": [],
   "source": [
    "## 輸入資料\n",
    "boys=[164,176,169,169,165,175,159,151,144,160,183,165,156,170,164,173,165,163,177,171]\n",
    "girls=[169,183,170,168,182,170,173,185,151,156,162,169,162,181,159,154,167,175,170,160]"
   ]
  },
  {
   "cell_type": "code",
   "execution_count": 3,
   "metadata": {},
   "outputs": [
    {
     "name": "stdout",
     "output_type": "stream",
     "text": [
      "======男生身高======\n",
      "平均數 = 165.95\n",
      "中位數 = 165.0\n",
      "眾數 = 165\n",
      "全距 = 39\n",
      "變異數 = 84.89210526315789\n",
      "標準差 = 9.213691185575838\n",
      "90百分位數 = 176.1, 50百分位數(即中位數) = 165.0, 20百分位數 = 159.8\n",
      "======女生身高======\n",
      "平均數 = 168.3\n",
      "高中位數 = 169.0\n",
      "眾數 = 170\n",
      "全距 = 32\n",
      "變異數 = 95.37894736842104\n",
      "標準差 = 9.766214587465353\n",
      "90百分位數 = 182.1, 50百分位數(即中位數) = 169.0, 20百分位數 = 159.8\n"
     ]
    },
    {
     "data": {
      "image/png": "[encoded data removed]",
      "text/plain": [
       "<Figure size 432x288 with 2 Axes>"
      ]
     },
     "metadata": {
      "needs_background": "light"
     },
     "output_type": "display_data"
    }
   ],
   "source": [
    "#Q1:試著用今天所教的內容，如何描述這兩組資料的樣態?\n",
    "#暗示:  分別計算男生和女生的統計量\n",
    "print(\"======男生身高======\")\n",
    "print(\"平均數 =\", np.mean(boys))\n",
    "print(\"中位數 =\", np.median(boys))\n",
    "mode, counts = stats.mode(boys)\n",
    "#print(mode)\n",
    "print(\"眾數 =\", mode[0])\n",
    "print(\"全距 =\", (np.max(boys)-np.min(boys)))\n",
    "print(\"變異數 =\", np.var(boys, ddof=1))\n",
    "print(\"標準差 =\", np.std(boys, ddof=1))\n",
    "b_ptl = np.percentile(boys, q=[90, 50, 20])\n",
    "print(f\"90百分位數 = {b_ptl[0]}, 50百分位數(即中位數) = {b_ptl[1]}, 20百分位數 = {b_ptl[2]}\")\n",
    "\n",
    "print(\"======女生身高======\")\n",
    "print(\"平均數 =\", np.mean(girls))\n",
    "print(\"高中位數 =\", np.median(girls))\n",
    "mode, counts = stats.mode(girls)\n",
    "#print(mode)\n",
    "print(\"眾數 =\", mode[0])\n",
    "print(\"全距 =\", (np.max(boys)-np.min(girls)))\n",
    "print(\"變異數 =\", np.var(girls, ddof=1))\n",
    "print(\"標準差 =\", np.std(girls, ddof=1))\n",
    "g_ptl = np.percentile(girls, q=[90, 50, 20])\n",
    "print(f\"90百分位數 = {g_ptl[0]}, 50百分位數(即中位數) = {g_ptl[1]}, 20百分位數 = {g_ptl[2]}\")\n",
    "\n",
    "plt.subplot(2, 1, 1)\n",
    "plt.hist(boys, bins=40, alpha=0.4, color=\"blue\")\n",
    "plt.title(\"Boy, Skewness={:.2f}, Kurtosis={:.2f}\".format(stats.skew(boys), stats.kurtosis(boys)))\n",
    "plt.axvline(x = np.mean(boys))\n",
    "\n",
    "plt.subplot(2,1,2)\n",
    "plt.hist(girls, bins=40, alpha=0.4, color=\"red\")\n",
    "plt.title(\"Girl, Skewness={:.2f}, Kurtosis={:.2f}\".format(stats.skew(girls), stats.kurtosis(girls)))\n",
    "plt.axvline(x = np.mean(girls))\n",
    "\n",
    "plt.subplots_adjust(left=None, \n",
    "                    bottom=None, \n",
    "                    right=None, \n",
    "                    top=None, \n",
    "                    wspace=None, #子版之間的寬度\n",
    "                    hspace=0.5 #子版之間的高度\n",
    "                    )\n",
    "plt.show()"
   ]
  },
  {
   "cell_type": "code",
   "execution_count": 4,
   "metadata": {},
   "outputs": [
    {
     "name": "stdout",
     "output_type": "stream",
     "text": [
      "女生\n"
     ]
    }
   ],
   "source": [
    "#Q2: 請問男生和女生在平均身高上誰比較高? \n",
    "if np.mean(boys)>np.mean(girls):\n",
    "    print(\"男生\")\n",
    "elif np.mean(boys)<np.mean(girls):\n",
    "    print(\"女生\")\n",
    "else:\n",
    "    print(\"男女生的平均身高一樣\")"
   ]
  },
  {
   "cell_type": "code",
   "execution_count": 5,
   "metadata": {},
   "outputs": [
    {
     "name": "stdout",
     "output_type": "stream",
     "text": [
      "不一致。可能是樣本數不夠大，不足以代表母體\n"
     ]
    }
   ],
   "source": [
    "#Q3:請問第二題的答案和日常生活中觀察的一致嗎? 如果不一致，你覺得原因可能為何? \n",
    "print(\"不一致。可能是樣本數不夠大，不足以代表母體\")"
   ]
  },
  {
   "cell_type": "code",
   "execution_count": null,
   "metadata": {},
   "outputs": [],
   "source": []
  }
 ],
 "metadata": {
  "colab": {
   "name": "Day33.YOLO 細節理解 - 網路輸出的後處理_HW.ipynb",
   "provenance": []
  },
  "kernelspec": {
   "display_name": "Python 3",
   "language": "python",
   "name": "python3"
  },
  "language_info": {
   "codemirror_mode": {
    "name": "ipython",
    "version": 3
   },
   "file_extension": ".py",
   "mimetype": "text/x-python",
   "name": "python",
   "nbconvert_exporter": "python",
   "pygments_lexer": "ipython3",
   "version": "3.8.5"
  }
 },
 "nbformat": 4,
 "nbformat_minor": 1
}
