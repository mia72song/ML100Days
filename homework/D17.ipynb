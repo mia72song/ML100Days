{
 "cells": [
  {
   "attachments": {},
   "cell_type": "markdown",
   "metadata": {
    "id": "b0CqLhJh2s7b"
   },
   "source": [
    "作業目標:了解效能優化方法\n",
    "\n"
   ]
  },
  {
   "cell_type": "markdown",
   "metadata": {
    "id": "RVN7uazcbsex"
   },
   "source": [
    "作業重點:"
   ]
  },
  {
   "attachments": {},
   "cell_type": "markdown",
   "metadata": {
    "id": "xiYCa02a2vRm"
   },
   "source": [
    "題目 : \n",
    "1. 在速度較慢的時候，可以先從哪邊開始檢查?\n",
    "A:\n",
    "2. 資料過大時應採取什麼方式讓記憶體占用量下降?\n",
    "A:castdown"
   ]
  },
  {
   "cell_type": "code",
   "execution_count": null,
   "metadata": {
    "id": "wGFAn8bhcUK6"
   },
   "outputs": [],
   "source": []
  }
 ],
 "metadata": {
  "colab": {
   "authorship_tag": "ABX9TyMYL5XgdElX7UhbkU71zGse",
   "collapsed_sections": [],
   "name": "作業題目.ipynb",
   "provenance": []
  },
  "kernelspec": {
   "display_name": "Python 3",
   "language": "python",
   "name": "python3"
  },
  "language_info": {
   "codemirror_mode": {
    "name": "ipython",
    "version": 3
   },
   "file_extension": ".py",
   "mimetype": "text/x-python",
   "name": "python",
   "nbconvert_exporter": "python",
   "pygments_lexer": "ipython3",
   "version": "3.8.5"
  }
 },
 "nbformat": 4,
 "nbformat_minor": 1
}
