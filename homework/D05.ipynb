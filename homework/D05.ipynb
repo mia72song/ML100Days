{
 "cells": [
  {
   "cell_type": "markdown",
   "metadata": {
    "id": "oef8c2jr-PZY"
   },
   "source": [
    "作業目標<br>\n",
    "計算有缺失值的資料，統計量實作<br>\n",
    "作業重點<br>\n",
    "當遇到缺失值有函式可以處理，不須額外寫程式刪除<br>\n",
    "計算統計量時不能出現缺失值"
   ]
  },
  {
   "cell_type": "markdown",
   "metadata": {
    "id": "4YgL8NF4-Ru3"
   },
   "source": [
    "題目:<br>\n",
    "english_score = np.array([55,89,76,65,48,70])<br>\n",
    "math_score = np.array([60,85,60,68,np.nan,60])<br>\n",
    "chinese_score = np.array([65,90,82,72,66,77])<br>\n",
    "上3列共六位同學的英文、數學、國文成績，第一個元素代表第一位同學，舉例第一位同學英文55分、數學60分、國文65分，今天第五位同學因某原因沒來考試，導致數學成績缺值，運用上列數據回答下列問題。<br>\n",
    "1. 請計算各科成績平均、最大值、最小值、標準差，其中數學缺一筆資料可忽略?\n",
    "2. 第五位同學補考數學後成績為55，請計算補考後數學成績平均、最大值、最小值、標準差?\n",
    "3. 用補考後資料找出與國文成績相關係數最高的學科?"
   ]
  },
  {
   "cell_type": "code",
   "execution_count": 14,
   "metadata": {
    "executionInfo": {
     "elapsed": 617,
     "status": "ok",
     "timestamp": 1609854566856,
     "user": {
      "displayName": "献竤黃",
      "photoUrl": "",
      "userId": "07529243043474362942"
     },
     "user_tz": -480
    },
    "id": "QwsKU8qO-RK7"
   },
   "outputs": [],
   "source": [
    "import numpy as np"
   ]
  },
  {
   "cell_type": "code",
   "execution_count": 15,
   "metadata": {
    "executionInfo": {
     "elapsed": 1016,
     "status": "ok",
     "timestamp": 1609854567261,
     "user": {
      "displayName": "献竤黃",
      "photoUrl": "",
      "userId": "07529243043474362942"
     },
     "user_tz": -480
    },
    "id": "B5BqDQAe_czh"
   },
   "outputs": [],
   "source": [
    "english_score = np.array([55,89,76,65,48,70])\n",
    "math_score = np.array([60,85,60,68,np.nan,60])\n",
    "chinese_score = np.array([65,90,82,72,66,77])"
   ]
  },
  {
   "cell_type": "code",
   "execution_count": 17,
   "metadata": {
    "executionInfo": {
     "elapsed": 1005,
     "status": "ok",
     "timestamp": 1609854567262,
     "user": {
      "displayName": "献竤黃",
      "photoUrl": "",
      "userId": "07529243043474362942"
     },
     "user_tz": -480
    },
    "id": "K3tUA6u9aI3N"
   },
   "outputs": [
    {
     "name": "stdout",
     "output_type": "stream",
     "text": [
      "英文成績平均： 67.16666666666667\n",
      "數學成績平均： 66.6\n",
      "國文成績平均： 75.33333333333333\n"
     ]
    }
   ],
   "source": [
    "#1. 請計算各科成績平均、最大值、最小值、標準差，其中數學缺一筆資料可忽略?\n",
    "en_mean = english_score.mean()\n",
    "print(f\"英文成績平均： {en_mean}\")\n",
    "ma_mean = np.nanmean(math_score)\n",
    "print(f\"數學成績平均： {ma_mean}\")\n",
    "ch_mean = chinese_score.mean()\n",
    "print(f\"國文成績平均： {ch_mean}\")"
   ]
  },
  {
   "cell_type": "code",
   "execution_count": 18,
   "metadata": {},
   "outputs": [
    {
     "name": "stdout",
     "output_type": "stream",
     "text": [
      "英文最高分： 89 ，最低分： 48\n",
      "數學最高分： 85.0 ，最低分： 60.0\n",
      "國文最高分： 90 ，最低分： 65\n"
     ]
    }
   ],
   "source": [
    "en_max = english_score.max()\n",
    "en_min = english_score.min()\n",
    "print(f\"英文最高分： {en_max} ，最低分： {en_min}\")\n",
    "\n",
    "ma_max = np.nanmax(math_score)\n",
    "ma_min = np.nanmin(math_score)\n",
    "print(f\"數學最高分： {ma_max} ，最低分： {ma_min}\")\n",
    "\n",
    "ch_max = chinese_score.max()\n",
    "ch_min = chinese_score.min()\n",
    "print(f\"國文最高分： {ch_max} ，最低分： {ch_min}\")"
   ]
  },
  {
   "cell_type": "code",
   "execution_count": 19,
   "metadata": {},
   "outputs": [
    {
     "name": "stdout",
     "output_type": "stream",
     "text": [
      "英文成績的標準差： 13.433995020924426\n",
      "數學成績的標準差： 9.707728879609279\n",
      "國文成績的標準差： 8.825468196582484\n"
     ]
    }
   ],
   "source": [
    "en_std = english_score.std()\n",
    "print(f\"英文成績的標準差： {en_std}\")\n",
    "\n",
    "ma_std = np.nanstd(math_score)\n",
    "print(f\"數學成績的標準差： {ma_std}\")\n",
    "\n",
    "ch_std = chinese_score.std()\n",
    "print(f\"國文成績的標準差： {ch_std}\")"
   ]
  },
  {
   "cell_type": "code",
   "execution_count": 20,
   "metadata": {
    "executionInfo": {
     "elapsed": 996,
     "status": "ok",
     "timestamp": 1609854567262,
     "user": {
      "displayName": "献竤黃",
      "photoUrl": "",
      "userId": "07529243043474362942"
     },
     "user_tz": -480
    },
    "id": "mXjDzvSrbLlf"
   },
   "outputs": [
    {
     "name": "stdout",
     "output_type": "stream",
     "text": [
      "補考後數學成績 = [60. 85. 60. 68. 55. 60.]\n",
      "平均數： 64.66666666666667\n",
      "數學最高分： 85.0，最低分： 55.0\n",
      "標準差： 9.860132971832694\n"
     ]
    }
   ],
   "source": [
    "#2. 第五位同學補考數學後成績為55，請計算補考後數學成績平均、最大值、最小值、標準差?\n",
    "math_score[4] = 55\n",
    "print(\"補考後數學成績 =\", math_score)\n",
    "\n",
    "new_ma_mean = math_score.mean()\n",
    "print(f\"平均數： {new_ma_mean}\")\n",
    "\n",
    "new_ma_max = math_score.max()\n",
    "new_ma_min = math_score.min()\n",
    "print(f\"數學最高分： {new_ma_max}，最低分： {new_ma_min}\")\n",
    "\n",
    "new_ma_std = math_score.std()\n",
    "print(f\"標準差： {new_ma_std}\")"
   ]
  },
  {
   "cell_type": "code",
   "execution_count": 21,
   "metadata": {
    "executionInfo": {
     "elapsed": 989,
     "status": "ok",
     "timestamp": 1609854567264,
     "user": {
      "displayName": "献竤黃",
      "photoUrl": "",
      "userId": "07529243043474362942"
     },
     "user_tz": -480
    },
    "id": "SaGolKx0cKoU"
   },
   "outputs": [
    {
     "name": "stdout",
     "output_type": "stream",
     "text": [
      "[[1.         0.97792828]\n",
      " [0.97792828 1.        ]]\n",
      "[[1.         0.74056803]\n",
      " [0.74056803 1.        ]]\n"
     ]
    }
   ],
   "source": [
    "#3. 用補考後資料找出與國文成績相關係數最高的學科?\n",
    "coc_ch_en = np.corrcoef(chinese_score, english_score)\n",
    "print(coc_ch_en)\n",
    "\n",
    "coc_ch_ma = np.corrcoef(chinese_score, math_score)\n",
    "print(coc_ch_ma)"
   ]
  },
  {
   "cell_type": "code",
   "execution_count": 5,
   "metadata": {
    "executionInfo": {
     "elapsed": 987,
     "status": "ok",
     "timestamp": 1609854567264,
     "user": {
      "displayName": "献竤黃",
      "photoUrl": "",
      "userId": "07529243043474362942"
     },
     "user_tz": -480
    },
    "id": "fTNlLZ9Pzyiy"
   },
   "outputs": [],
   "source": []
  }
 ],
 "metadata": {
  "colab": {
   "authorship_tag": "ABX9TyPtywwDR7TsGGEOMGYLDT5h",
   "collapsed_sections": [],
   "name": "作業Hong題目.ipynb",
   "provenance": []
  },
  "kernelspec": {
   "display_name": "Python 3",
   "language": "python",
   "name": "python3"
  },
  "language_info": {
   "codemirror_mode": {
    "name": "ipython",
    "version": 3
   },
   "file_extension": ".py",
   "mimetype": "text/x-python",
   "name": "python",
   "nbconvert_exporter": "python",
   "pygments_lexer": "ipython3",
   "version": "3.8.5"
  }
 },
 "nbformat": 4,
 "nbformat_minor": 1
}
